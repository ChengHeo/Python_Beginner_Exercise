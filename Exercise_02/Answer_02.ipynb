{
 "cells": [
  {
   "cell_type": "code",
   "execution_count": 6,
   "id": "42bdb784",
   "metadata": {},
   "outputs": [
    {
     "name": "stdout",
     "output_type": "stream",
     "text": [
      "Less than ten.\n"
     ]
    }
   ],
   "source": [
    "num=4\n",
    "if num<=9:\n",
    "    print(\"Less than ten.\")\n",
    "elif num==4:\n",
    "    print(\"Equal to four.\")"
   ]
  },
  {
   "cell_type": "code",
   "execution_count": 7,
   "id": "15edfdf5",
   "metadata": {},
   "outputs": [
    {
     "name": "stdout",
     "output_type": "stream",
     "text": [
      "Your change contains 3 dollars.\n"
     ]
    }
   ],
   "source": [
    "change = 356\n",
    "if change >= 100:\n",
    "    print(\"Your change contains\", change//100, \"dollars.\")\n",
    "else:\n",
    "    print(\"Your change contains no dollars.\")"
   ]
  },
  {
   "cell_type": "code",
   "execution_count": 8,
   "id": "a5f58d42",
   "metadata": {},
   "outputs": [
    {
     "name": "stdout",
     "output_type": "stream",
     "text": [
      "2 2 7\n"
     ]
    }
   ],
   "source": [
    "a=2\n",
    "b=3\n",
    "c=7\n",
    "if (a*b)<c:\n",
    "    b=a\n",
    "else:\n",
    "    c=a+b+c\n",
    "print(a,b,c)"
   ]
  },
  {
   "cell_type": "code",
   "execution_count": 9,
   "id": "77945f98",
   "metadata": {},
   "outputs": [
    {
     "name": "stdout",
     "output_type": "stream",
     "text": [
      "Enter length of cloth in yards:4\n",
      "Cost of cloth is $10.50.\n"
     ]
    }
   ],
   "source": [
    "length=eval(input(\"Enter length of cloth in yards:\"))\n",
    "if length<1:\n",
    "    cost=3.00 #cost in dollars\n",
    "else:\n",
    "    cost=3.00+((length-1)*2.50)\n",
    "result=\"Cost of cloth is ${0:0.2f}.\".format(cost)\n",
    "print(result)"
   ]
  },
  {
   "cell_type": "code",
   "execution_count": 12,
   "id": "16f211cb",
   "metadata": {},
   "outputs": [
    {
     "name": "stdout",
     "output_type": "stream",
     "text": [
      "positive\n"
     ]
    }
   ],
   "source": [
    "number=5\n",
    "if number<0:\n",
    "    print(\"negative\")\n",
    "else:\n",
    "    if number==0:\n",
    "        print(\"zero\")\n",
    "    else:\n",
    "        print(\"positive\")"
   ]
  },
  {
   "cell_type": "code",
   "execution_count": 14,
   "id": "d163cfba",
   "metadata": {},
   "outputs": [
    {
     "name": "stdout",
     "output_type": "stream",
     "text": [
      "Yes\n"
     ]
    }
   ],
   "source": [
    "major=\"Computer Science\"\n",
    "if major==\"Business\" or \"Computer Science\":\n",
    "    print(\"Yes\")"
   ]
  },
  {
   "cell_type": "code",
   "execution_count": 16,
   "id": "52ee34bb",
   "metadata": {},
   "outputs": [
    {
     "name": "stdout",
     "output_type": "stream",
     "text": [
      "Both are equal\n"
     ]
    }
   ],
   "source": [
    "if a != b:\n",
    "    print(\"Both are unequal\")\n",
    "else:\n",
    "    print(\"Both are equal\")"
   ]
  },
  {
   "cell_type": "code",
   "execution_count": 18,
   "id": "53114181",
   "metadata": {},
   "outputs": [
    {
     "name": "stdout",
     "output_type": "stream",
     "text": [
      "Enter amount of bill: 20\n",
      "Enter percentage tip: 5\n",
      "Tip is $2\n"
     ]
    }
   ],
   "source": [
    "Bill=float(input(\"Enter amount of bill: \"))\n",
    "Percentage=float(input(\"Enter percentage tip: \"))\n",
    "Tip=(Bill*Percentage)/100\n",
    "if Tip<2:\n",
    "    print(\"Tip is $2\")\n",
    "else:\n",
    "    print(\"Tip is\" ,'$'+\"{:.2f}\".format(Tip))"
   ]
  },
  {
   "cell_type": "code",
   "execution_count": null,
   "id": "e209244e",
   "metadata": {},
   "outputs": [],
   "source": []
  }
 ],
 "metadata": {
  "kernelspec": {
   "display_name": "Python 3 (ipykernel)",
   "language": "python",
   "name": "python3"
  },
  "language_info": {
   "codemirror_mode": {
    "name": "ipython",
    "version": 3
   },
   "file_extension": ".py",
   "mimetype": "text/x-python",
   "name": "python",
   "nbconvert_exporter": "python",
   "pygments_lexer": "ipython3",
   "version": "3.9.13"
  }
 },
 "nbformat": 4,
 "nbformat_minor": 5
}
