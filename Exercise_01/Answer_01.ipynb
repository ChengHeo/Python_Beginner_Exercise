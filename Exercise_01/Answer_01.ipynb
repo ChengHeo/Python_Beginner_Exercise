{
 "cells": [
  {
   "cell_type": "code",
   "execution_count": 1,
   "id": "134411ad",
   "metadata": {},
   "outputs": [
    {
     "name": "stdout",
     "output_type": "stream",
     "text": [
      "75\n"
     ]
    }
   ],
   "source": [
    "a=3\n",
    "b=5\n",
    "print(a*b**2)"
   ]
  },
  {
   "cell_type": "code",
   "execution_count": 2,
   "id": "0af6c922",
   "metadata": {},
   "outputs": [
    {
     "name": "stdout",
     "output_type": "stream",
     "text": [
      "4 5 2\n"
     ]
    }
   ],
   "source": [
    "d=5\n",
    "d-=1\n",
    "print(d,d+1,d-2)"
   ]
  },
  {
   "cell_type": "code",
   "execution_count": 3,
   "id": "cb1da3dd",
   "metadata": {},
   "outputs": [
    {
     "name": "stdout",
     "output_type": "stream",
     "text": [
      "1.0\n"
     ]
    }
   ],
   "source": [
    "n=5\n",
    "n**2\n",
    "print(n/5)"
   ]
  },
  {
   "cell_type": "code",
   "execution_count": 4,
   "id": "dc547ee7",
   "metadata": {},
   "outputs": [
    {
     "name": "stdout",
     "output_type": "stream",
     "text": [
      "230\n"
     ]
    }
   ],
   "source": [
    "points=30\n",
    "points+=20*10\n",
    "print(points)"
   ]
  },
  {
   "cell_type": "code",
   "execution_count": 5,
   "id": "b86c9548",
   "metadata": {},
   "outputs": [
    {
     "name": "stdout",
     "output_type": "stream",
     "text": [
      "3.52\n"
     ]
    }
   ],
   "source": [
    "totalBerries=100\n",
    "totalCost=352\n",
    "eachBerry=totalCost/totalBerries\n",
    "print(eachBerry)"
   ]
  },
  {
   "cell_type": "code",
   "execution_count": 7,
   "id": "3c64102f",
   "metadata": {},
   "outputs": [
    {
     "name": "stdout",
     "output_type": "stream",
     "text": [
      "30 255\n"
     ]
    }
   ],
   "source": [
    "totalMeters=30255\n",
    "kiloMeters=totalMeters//1000\n",
    "meters=totalMeters%1000\n",
    "print(kiloMeters,meters)"
   ]
  },
  {
   "cell_type": "code",
   "execution_count": 8,
   "id": "4ef0ef13",
   "metadata": {},
   "outputs": [
    {
     "data": {
      "text/plain": [
       "'o'"
      ]
     },
     "execution_count": 8,
     "metadata": {},
     "output_type": "execute_result"
    }
   ],
   "source": [
    "\"Python\"[4]"
   ]
  },
  {
   "cell_type": "code",
   "execution_count": 9,
   "id": "46d91832",
   "metadata": {},
   "outputs": [
    {
     "data": {
      "text/plain": [
       "'o'"
      ]
     },
     "execution_count": 9,
     "metadata": {},
     "output_type": "execute_result"
    }
   ],
   "source": [
    "\"Python\"[-2]"
   ]
  },
  {
   "cell_type": "code",
   "execution_count": 10,
   "id": "e2a50acc",
   "metadata": {},
   "outputs": [
    {
     "data": {
      "text/plain": [
       "'l'"
      ]
     },
     "execution_count": 10,
     "metadata": {},
     "output_type": "execute_result"
    }
   ],
   "source": [
    "\"Hello Python\"[-9]"
   ]
  },
  {
   "cell_type": "code",
   "execution_count": 11,
   "id": "019344c9",
   "metadata": {},
   "outputs": [
    {
     "data": {
      "text/plain": [
       "'n'"
      ]
     },
     "execution_count": 11,
     "metadata": {},
     "output_type": "execute_result"
    }
   ],
   "source": [
    "\"Python\"[5]"
   ]
  },
  {
   "cell_type": "code",
   "execution_count": 12,
   "id": "e61851f7",
   "metadata": {},
   "outputs": [
    {
     "data": {
      "text/plain": [
       "'Pyt'"
      ]
     },
     "execution_count": 12,
     "metadata": {},
     "output_type": "execute_result"
    }
   ],
   "source": [
    "\"Python\"[0:3]"
   ]
  },
  {
   "cell_type": "code",
   "execution_count": 13,
   "id": "41dbf6f0",
   "metadata": {},
   "outputs": [
    {
     "data": {
      "text/plain": [
       "''"
      ]
     },
     "execution_count": 13,
     "metadata": {},
     "output_type": "execute_result"
    }
   ],
   "source": [
    "\"Python\"[2:2]"
   ]
  },
  {
   "cell_type": "code",
   "execution_count": 14,
   "id": "d7a66b7e",
   "metadata": {},
   "outputs": [
    {
     "data": {
      "text/plain": [
       "'Py'"
      ]
     },
     "execution_count": 14,
     "metadata": {},
     "output_type": "execute_result"
    }
   ],
   "source": [
    "\"Python\"[:2]"
   ]
  },
  {
   "cell_type": "code",
   "execution_count": 15,
   "id": "3322687b",
   "metadata": {},
   "outputs": [
    {
     "data": {
      "text/plain": [
       "'thon'"
      ]
     },
     "execution_count": 15,
     "metadata": {},
     "output_type": "execute_result"
    }
   ],
   "source": [
    "\"Python\"[2:]"
   ]
  },
  {
   "cell_type": "code",
   "execution_count": 16,
   "id": "94a57fad",
   "metadata": {},
   "outputs": [
    {
     "data": {
      "text/plain": [
       "'h'"
      ]
     },
     "execution_count": 16,
     "metadata": {},
     "output_type": "execute_result"
    }
   ],
   "source": [
    "\"Python\"[-3:-2]"
   ]
  },
  {
   "cell_type": "code",
   "execution_count": 17,
   "id": "2afa1fba",
   "metadata": {},
   "outputs": [
    {
     "data": {
      "text/plain": [
       "'ytho'"
      ]
     },
     "execution_count": 17,
     "metadata": {},
     "output_type": "execute_result"
    }
   ],
   "source": [
    "\"Python\"[-5:-1]"
   ]
  },
  {
   "cell_type": "code",
   "execution_count": 18,
   "id": "d4411e7c",
   "metadata": {},
   "outputs": [
    {
     "data": {
      "text/plain": [
       "'th'"
      ]
     },
     "execution_count": 18,
     "metadata": {},
     "output_type": "execute_result"
    }
   ],
   "source": [
    "\"Python\"[2:-2]"
   ]
  },
  {
   "cell_type": "code",
   "execution_count": 19,
   "id": "fa1569ea",
   "metadata": {},
   "outputs": [
    {
     "data": {
      "text/plain": [
       "'th'"
      ]
     },
     "execution_count": 19,
     "metadata": {},
     "output_type": "execute_result"
    }
   ],
   "source": [
    "\"Python\"[-4:4]"
   ]
  },
  {
   "cell_type": "code",
   "execution_count": 20,
   "id": "ebeff30b",
   "metadata": {},
   "outputs": [
    {
     "data": {
      "text/plain": [
       "'Python'"
      ]
     },
     "execution_count": 20,
     "metadata": {},
     "output_type": "execute_result"
    }
   ],
   "source": [
    "\"Python\"[:]"
   ]
  },
  {
   "cell_type": "code",
   "execution_count": 21,
   "id": "d0a5abf7",
   "metadata": {},
   "outputs": [
    {
     "data": {
      "text/plain": [
       "'Python'"
      ]
     },
     "execution_count": 21,
     "metadata": {},
     "output_type": "execute_result"
    }
   ],
   "source": [
    "\"Python\"[-10:10]"
   ]
  },
  {
   "cell_type": "code",
   "execution_count": 22,
   "id": "f2baac38",
   "metadata": {},
   "outputs": [
    {
     "data": {
      "text/plain": [
       "2"
      ]
     },
     "execution_count": 22,
     "metadata": {},
     "output_type": "execute_result"
    }
   ],
   "source": [
    "\"Python\".find(\"tho\")"
   ]
  },
  {
   "cell_type": "code",
   "execution_count": 23,
   "id": "6b8b752b",
   "metadata": {},
   "outputs": [
    {
     "data": {
      "text/plain": [
       "-1"
      ]
     },
     "execution_count": 23,
     "metadata": {},
     "output_type": "execute_result"
    }
   ],
   "source": [
    "\"Python\".find(\"ty\")"
   ]
  },
  {
   "cell_type": "code",
   "execution_count": 24,
   "id": "1de30784",
   "metadata": {},
   "outputs": [
    {
     "data": {
      "text/plain": [
       "-1"
      ]
     },
     "execution_count": 24,
     "metadata": {},
     "output_type": "execute_result"
    }
   ],
   "source": [
    "\"Python\".find(\"oh\")"
   ]
  },
  {
   "cell_type": "code",
   "execution_count": 25,
   "id": "f7ab1f15",
   "metadata": {},
   "outputs": [
    {
     "data": {
      "text/plain": [
       "0"
      ]
     },
     "execution_count": 25,
     "metadata": {},
     "output_type": "execute_result"
    }
   ],
   "source": [
    "\"Python\".find(\"Pyt\")"
   ]
  },
  {
   "cell_type": "code",
   "execution_count": 26,
   "id": "2631aceb",
   "metadata": {},
   "outputs": [
    {
     "data": {
      "text/plain": [
       "7"
      ]
     },
     "execution_count": 26,
     "metadata": {},
     "output_type": "execute_result"
    }
   ],
   "source": [
    "\"whizzbuzz\".rfind(\"zz\")"
   ]
  },
  {
   "cell_type": "code",
   "execution_count": 27,
   "id": "81091658",
   "metadata": {},
   "outputs": [
    {
     "data": {
      "text/plain": [
       "3"
      ]
     },
     "execution_count": 27,
     "metadata": {},
     "output_type": "execute_result"
    }
   ],
   "source": [
    "\"whizzbuzz\".find(\"zz\")"
   ]
  },
  {
   "cell_type": "code",
   "execution_count": 28,
   "id": "256af24d",
   "metadata": {},
   "outputs": [
    {
     "data": {
      "text/plain": [
       "'Python'"
      ]
     },
     "execution_count": 28,
     "metadata": {},
     "output_type": "execute_result"
    }
   ],
   "source": [
    "\"Python\".lstrip()"
   ]
  },
  {
   "cell_type": "code",
   "execution_count": 29,
   "id": "0a6971a1",
   "metadata": {},
   "outputs": [
    {
     "data": {
      "text/plain": [
       "True"
      ]
     },
     "execution_count": 29,
     "metadata": {},
     "output_type": "execute_result"
    }
   ],
   "source": [
    "\"hello_world\".startswith(\"hell\")"
   ]
  },
  {
   "cell_type": "code",
   "execution_count": 30,
   "id": "6233cc0b",
   "metadata": {},
   "outputs": [
    {
     "name": "stdout",
     "output_type": "stream",
     "text": [
      "merrychristmas!\n"
     ]
    }
   ],
   "source": [
    "print(\"merry\",\"christmas\",'!',sep=\"\")"
   ]
  },
  {
   "cell_type": "code",
   "execution_count": 32,
   "id": "3b4fd5e9",
   "metadata": {},
   "outputs": [
    {
     "name": "stdout",
     "output_type": "stream",
     "text": [
      "Price:$23.45\n"
     ]
    }
   ],
   "source": [
    "print(\"Price:\",'$',23.45,sep=\"\")"
   ]
  },
  {
   "cell_type": "code",
   "execution_count": 33,
   "id": "af03515b",
   "metadata": {},
   "outputs": [
    {
     "name": "stdout",
     "output_type": "stream",
     "text": [
      "Portion:90%\n"
     ]
    }
   ],
   "source": [
    "print(\"Portion:\",90,'%',sep=\"\")"
   ]
  },
  {
   "cell_type": "code",
   "execution_count": 34,
   "id": "f760b614",
   "metadata": {},
   "outputs": [
    {
     "name": "stdout",
     "output_type": "stream",
     "text": [
      "Python\n"
     ]
    }
   ],
   "source": [
    "print(\"Py\",\"th\",\"on\",sep=\"\")"
   ]
  },
  {
   "cell_type": "code",
   "execution_count": 35,
   "id": "d88e91c3",
   "metadata": {},
   "outputs": [
    {
     "name": "stdout",
     "output_type": "stream",
     "text": [
      "1x2x3\n"
     ]
    }
   ],
   "source": [
    "print(1,2,3,sep=\"x\")"
   ]
  },
  {
   "cell_type": "code",
   "execution_count": 36,
   "id": "17efe2f1",
   "metadata": {},
   "outputs": [
    {
     "name": "stdout",
     "output_type": "stream",
     "text": [
      "tic-tac-toe\n"
     ]
    }
   ],
   "source": [
    "print(\"tic\",\"tac\",\"toe\",sep='-')"
   ]
  },
  {
   "cell_type": "code",
   "execution_count": 37,
   "id": "1bf96223",
   "metadata": {},
   "outputs": [
    {
     "name": "stdout",
     "output_type": "stream",
     "text": [
      "father-in-law\n"
     ]
    }
   ],
   "source": [
    "print(\"father\",\"in\",\"law\",sep='-')"
   ]
  },
  {
   "cell_type": "code",
   "execution_count": 38,
   "id": "35f7f345",
   "metadata": {},
   "outputs": [
    {
     "name": "stdout",
     "output_type": "stream",
     "text": [
      "one,two,three\n"
     ]
    }
   ],
   "source": [
    "print(\"one\",\"two\",\"three\",sep=',')"
   ]
  },
  {
   "cell_type": "code",
   "execution_count": 40,
   "id": "8da1e8d1",
   "metadata": {},
   "outputs": [
    {
     "name": "stdout",
     "output_type": "stream",
     "text": [
      "What is your name?\n",
      "John\n"
     ]
    }
   ],
   "source": [
    "print(\"What is your name\",end='?\\n')\n",
    "print(\"John\")"
   ]
  },
  {
   "cell_type": "code",
   "execution_count": 42,
   "id": "c0c11e86",
   "metadata": {},
   "outputs": [
    {
     "name": "stdout",
     "output_type": "stream",
     "text": [
      "spam and eggs\n"
     ]
    }
   ],
   "source": [
    "print(\"spam\",end=\" and \")\n",
    "print(\"eggs\")"
   ]
  },
  {
   "cell_type": "code",
   "execution_count": null,
   "id": "fc88eb32",
   "metadata": {},
   "outputs": [],
   "source": []
  }
 ],
 "metadata": {
  "kernelspec": {
   "display_name": "Python 3 (ipykernel)",
   "language": "python",
   "name": "python3"
  },
  "language_info": {
   "codemirror_mode": {
    "name": "ipython",
    "version": 3
   },
   "file_extension": ".py",
   "mimetype": "text/x-python",
   "name": "python",
   "nbconvert_exporter": "python",
   "pygments_lexer": "ipython3",
   "version": "3.9.13"
  }
 },
 "nbformat": 4,
 "nbformat_minor": 5
}
