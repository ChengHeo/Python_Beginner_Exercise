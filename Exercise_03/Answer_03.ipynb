{
 "cells": [
  {
   "cell_type": "code",
   "execution_count": 1,
   "id": "159ac9ec",
   "metadata": {},
   "outputs": [],
   "source": [
    "countries=[\"Japan\",\"India\",\"Algeria\",\"Brazil\",\"Angola\",\"England\",\"Argentina\",\"Portugal\",\"China\",\"Australia\",\"Austria\",\"Ghana\",\"Bahamas\",\"Bangladesh\",\"Belgium\",\"Bhutan\",\"Bosnia\",\"Cameroon\",\"Canada\",\"Denmark\"]"
   ]
  },
  {
   "cell_type": "code",
   "execution_count": 2,
   "id": "1001a991",
   "metadata": {},
   "outputs": [
    {
     "name": "stdout",
     "output_type": "stream",
     "text": [
      "Algeria Denmark\n"
     ]
    }
   ],
   "source": [
    "print(countries[2],countries[-1])"
   ]
  },
  {
   "cell_type": "code",
   "execution_count": 3,
   "id": "945cc9bb",
   "metadata": {},
   "outputs": [
    {
     "name": "stdout",
     "output_type": "stream",
     "text": [
      "Brazil Cameroon\n"
     ]
    }
   ],
   "source": [
    "print(countries[3],countries[-3])"
   ]
  },
  {
   "cell_type": "code",
   "execution_count": 4,
   "id": "c4bb0099",
   "metadata": {},
   "outputs": [
    {
     "name": "stdout",
     "output_type": "stream",
     "text": [
      "Canada Bosnia\n"
     ]
    }
   ],
   "source": [
    "print(countries[18],countries[16])"
   ]
  },
  {
   "cell_type": "code",
   "execution_count": 5,
   "id": "005e0481",
   "metadata": {},
   "outputs": [
    {
     "name": "stdout",
     "output_type": "stream",
     "text": [
      "20\n"
     ]
    }
   ],
   "source": [
    "print(len(countries))"
   ]
  },
  {
   "cell_type": "code",
   "execution_count": 6,
   "id": "02b2faab",
   "metadata": {},
   "outputs": [
    {
     "name": "stdout",
     "output_type": "stream",
     "text": [
      "Denmark Denmark\n"
     ]
    }
   ],
   "source": [
    "print(countries[-1],countries[19])"
   ]
  },
  {
   "cell_type": "code",
   "execution_count": 7,
   "id": "850e5fe7",
   "metadata": {},
   "outputs": [
    {
     "name": "stdout",
     "output_type": "stream",
     "text": [
      "17\n"
     ]
    }
   ],
   "source": [
    "print(countries.index(\"Cameroon\"))"
   ]
  },
  {
   "cell_type": "code",
   "execution_count": 8,
   "id": "c7e737ff",
   "metadata": {},
   "outputs": [
    {
     "name": "stdout",
     "output_type": "stream",
     "text": [
      "11\n"
     ]
    }
   ],
   "source": [
    "print(countries.index(\"Ghana\"))"
   ]
  },
  {
   "cell_type": "code",
   "execution_count": 9,
   "id": "fd3caf2c",
   "metadata": {},
   "outputs": [
    {
     "name": "stdout",
     "output_type": "stream",
     "text": [
      "10\n"
     ]
    }
   ],
   "source": [
    "print(countries.index(countries[10]))"
   ]
  },
  {
   "cell_type": "code",
   "execution_count": 10,
   "id": "d18295b0",
   "metadata": {},
   "outputs": [
    {
     "name": "stdout",
     "output_type": "stream",
     "text": [
      "Denmark Denmark\n"
     ]
    }
   ],
   "source": [
    "print(countries[len(countries)-1],countries[-1])"
   ]
  },
  {
   "cell_type": "code",
   "execution_count": 11,
   "id": "255cf6f6",
   "metadata": {},
   "outputs": [
    {
     "name": "stdout",
     "output_type": "stream",
     "text": [
      "JAPAN\n"
     ]
    }
   ],
   "source": [
    "print(countries[0].upper())"
   ]
  },
  {
   "cell_type": "code",
   "execution_count": 13,
   "id": "63dca423",
   "metadata": {},
   "outputs": [
    {
     "name": "stdout",
     "output_type": "stream",
     "text": [
      "japan\n"
     ]
    }
   ],
   "source": [
    "countries[0]=countries[0].lower()\n",
    "print(countries[0])"
   ]
  },
  {
   "cell_type": "code",
   "execution_count": 14,
   "id": "7ddf53b6",
   "metadata": {},
   "outputs": [
    {
     "name": "stdout",
     "output_type": "stream",
     "text": [
      "Germany\n"
     ]
    }
   ],
   "source": [
    "countries.insert(5,\"Germany\")\n",
    "print(countries[5])"
   ]
  },
  {
   "cell_type": "code",
   "execution_count": 15,
   "id": "4ee53a48",
   "metadata": {},
   "outputs": [
    {
     "name": "stdout",
     "output_type": "stream",
     "text": [
      "Denmark\n"
     ]
    }
   ],
   "source": [
    "countries.append(\"Nigeria\")\n",
    "print(countries[20])"
   ]
  },
  {
   "cell_type": "code",
   "execution_count": 16,
   "id": "97720369",
   "metadata": {},
   "outputs": [
    {
     "name": "stdout",
     "output_type": "stream",
     "text": [
      "13\n"
     ]
    }
   ],
   "source": [
    "countries.insert(11,\"Nepal\")\n",
    "print(countries.index(\"Ghana\"))"
   ]
  },
  {
   "cell_type": "code",
   "execution_count": 17,
   "id": "6ccc0cf9",
   "metadata": {},
   "outputs": [
    {
     "name": "stdout",
     "output_type": "stream",
     "text": [
      "Germany\n"
     ]
    }
   ],
   "source": [
    "del countries[4]\n",
    "print(countries[4])"
   ]
  },
  {
   "cell_type": "code",
   "execution_count": 18,
   "id": "27c29e89",
   "metadata": {},
   "outputs": [
    {
     "name": "stdout",
     "output_type": "stream",
     "text": [
      "5\n"
     ]
    }
   ],
   "source": [
    "del countries[3]\n",
    "print(countries.index(\"Argentina\"))"
   ]
  },
  {
   "cell_type": "code",
   "execution_count": 19,
   "id": "c569a176",
   "metadata": {},
   "outputs": [
    {
     "name": "stdout",
     "output_type": "stream",
     "text": [
      "['Algeria', 'Germany', 'England']\n"
     ]
    }
   ],
   "source": [
    "print(countries[2:5])"
   ]
  },
  {
   "cell_type": "code",
   "execution_count": 20,
   "id": "03fce9e4",
   "metadata": {},
   "outputs": [
    {
     "name": "stdout",
     "output_type": "stream",
     "text": [
      "[]\n"
     ]
    }
   ],
   "source": [
    "print(countries[-1:4])"
   ]
  },
  {
   "cell_type": "code",
   "execution_count": 21,
   "id": "2aaf3e6f",
   "metadata": {},
   "outputs": [
    {
     "name": "stdout",
     "output_type": "stream",
     "text": [
      "['Bosnia', 'Cameroon', 'Canada']\n"
     ]
    }
   ],
   "source": [
    "print(countries[-5:-2])"
   ]
  },
  {
   "cell_type": "code",
   "execution_count": 22,
   "id": "204d57f0",
   "metadata": {},
   "outputs": [
    {
     "name": "stdout",
     "output_type": "stream",
     "text": [
      "['England', 'Argentina', 'Portugal', 'China', 'Australia', 'Nepal', 'Austria', 'Ghana', 'Bahamas', 'Bangladesh', 'Belgium', 'Bhutan', 'Bosnia', 'Cameroon', 'Canada', 'Denmark']\n"
     ]
    }
   ],
   "source": [
    "print(countries[4:-1])"
   ]
  },
  {
   "cell_type": "code",
   "execution_count": 23,
   "id": "d15ccde7",
   "metadata": {},
   "outputs": [
    {
     "name": "stdout",
     "output_type": "stream",
     "text": [
      "['japan', 'India', 'Algeria', 'Germany', 'England', 'Argentina', 'Portugal', 'China', 'Australia', 'Nepal']\n"
     ]
    }
   ],
   "source": [
    "print(countries[:10])"
   ]
  },
  {
   "cell_type": "code",
   "execution_count": 24,
   "id": "67560789",
   "metadata": {},
   "outputs": [
    {
     "name": "stdout",
     "output_type": "stream",
     "text": [
      "['Austria', 'Ghana', 'Bahamas', 'Bangladesh', 'Belgium', 'Bhutan', 'Bosnia', 'Cameroon', 'Canada', 'Denmark', 'Nigeria']\n"
     ]
    }
   ],
   "source": [
    "print(countries[10:])"
   ]
  },
  {
   "cell_type": "code",
   "execution_count": 25,
   "id": "d2af1093",
   "metadata": {},
   "outputs": [
    {
     "name": "stdout",
     "output_type": "stream",
     "text": [
      "['Canada', 'Denmark', 'Nigeria']\n"
     ]
    }
   ],
   "source": [
    "print(countries[-3:])"
   ]
  },
  {
   "cell_type": "code",
   "execution_count": 26,
   "id": "de534475",
   "metadata": {},
   "outputs": [
    {
     "name": "stdout",
     "output_type": "stream",
     "text": [
      "['japan', 'India', 'Algeria', 'Germany', 'England', 'Argentina', 'Portugal', 'China', 'Australia', 'Nepal', 'Austria', 'Ghana', 'Bahamas', 'Bangladesh', 'Belgium', 'Bhutan', 'Bosnia', 'Cameroon', 'Canada', 'Denmark']\n"
     ]
    }
   ],
   "source": [
    "print(countries[:-1])"
   ]
  },
  {
   "cell_type": "code",
   "execution_count": 27,
   "id": "06f6768f",
   "metadata": {},
   "outputs": [
    {
     "name": "stdout",
     "output_type": "stream",
     "text": [
      "[]\n"
     ]
    }
   ],
   "source": [
    "print(countries[3:3])"
   ]
  },
  {
   "cell_type": "code",
   "execution_count": 28,
   "id": "d48e9ec2",
   "metadata": {},
   "outputs": [
    {
     "name": "stdout",
     "output_type": "stream",
     "text": [
      "[]\n"
     ]
    }
   ],
   "source": [
    "print(countries[-1:-4])"
   ]
  },
  {
   "cell_type": "code",
   "execution_count": 29,
   "id": "fa6a278a",
   "metadata": {},
   "outputs": [
    {
     "name": "stdout",
     "output_type": "stream",
     "text": [
      "Germany\n"
     ]
    }
   ],
   "source": [
    "print(countries[1:10][2])"
   ]
  },
  {
   "cell_type": "code",
   "execution_count": 30,
   "id": "26c62764",
   "metadata": {},
   "outputs": [
    {
     "name": "stdout",
     "output_type": "stream",
     "text": [
      "['Algeria', 'Germany', 'England', 'Argentina', 'Portugal', 'China', 'Australia', 'Nepal', 'Austria', 'Ghana', 'Bahamas', 'Bangladesh', 'Belgium', 'Bhutan', 'Bosnia', 'Cameroon', 'Canada', 'Denmark', 'Nigeria']\n"
     ]
    }
   ],
   "source": [
    "print(countries[2:len(countries)])"
   ]
  },
  {
   "cell_type": "code",
   "execution_count": 31,
   "id": "a31ff18e",
   "metadata": {},
   "outputs": [
    {
     "name": "stdout",
     "output_type": "stream",
     "text": [
      "Argentina\n"
     ]
    }
   ],
   "source": [
    "print(countries[:][5])"
   ]
  },
  {
   "cell_type": "code",
   "execution_count": 32,
   "id": "51bfab10",
   "metadata": {},
   "outputs": [
    {
     "name": "stdout",
     "output_type": "stream",
     "text": [
      "r\n"
     ]
    }
   ],
   "source": [
    "print(countries[-4][-4])"
   ]
  },
  {
   "cell_type": "code",
   "execution_count": 34,
   "id": "720cf784",
   "metadata": {},
   "outputs": [
    {
     "name": "stdout",
     "output_type": "stream",
     "text": [
      "10\n"
     ]
    }
   ],
   "source": [
    "print(len(countries[10:20]))"
   ]
  },
  {
   "cell_type": "code",
   "execution_count": 35,
   "id": "6ca29147",
   "metadata": {},
   "outputs": [
    {
     "name": "stdout",
     "output_type": "stream",
     "text": [
      "20\n"
     ]
    }
   ],
   "source": [
    "print(len(countries[-20:]))"
   ]
  },
  {
   "cell_type": "code",
   "execution_count": 36,
   "id": "21683418",
   "metadata": {},
   "outputs": [
    {
     "name": "stdout",
     "output_type": "stream",
     "text": [
      "0\n"
     ]
    }
   ],
   "source": [
    "print(len([]))"
   ]
  },
  {
   "cell_type": "code",
   "execution_count": 37,
   "id": "e90c75df",
   "metadata": {},
   "outputs": [
    {
     "name": "stdout",
     "output_type": "stream",
     "text": [
      "21\n"
     ]
    }
   ],
   "source": [
    "print(len(countries[:]))"
   ]
  },
  {
   "cell_type": "code",
   "execution_count": 38,
   "id": "bd43470e",
   "metadata": {},
   "outputs": [
    {
     "name": "stdout",
     "output_type": "stream",
     "text": [
      "19\n"
     ]
    }
   ],
   "source": [
    "print(len(countries[1:-1]))"
   ]
  },
  {
   "cell_type": "code",
   "execution_count": 39,
   "id": "c4e66735",
   "metadata": {},
   "outputs": [
    {
     "name": "stdout",
     "output_type": "stream",
     "text": [
      "17\n"
     ]
    }
   ],
   "source": [
    "print(len(countries[2:-2]))"
   ]
  },
  {
   "cell_type": "code",
   "execution_count": 41,
   "id": "4535ac14",
   "metadata": {},
   "outputs": [
    {
     "name": "stdout",
     "output_type": "stream",
     "text": [
      "['Cuba', 'Algeria', 'Cuba']\n"
     ]
    }
   ],
   "source": [
    "countries.extend([\"Algeria\",\"Cuba\"])\n",
    "print(countries[-3:])"
   ]
  },
  {
   "cell_type": "code",
   "execution_count": 42,
   "id": "94a78fc9",
   "metadata": {},
   "outputs": [
    {
     "name": "stdout",
     "output_type": "stream",
     "text": [
      "['Algeria', 'Cuba', ['New Zealand', 'Norway']]\n"
     ]
    }
   ],
   "source": [
    "countries.append([\"New Zealand\",\"Norway\"])\n",
    "print(countries[-3:])"
   ]
  },
  {
   "cell_type": "code",
   "execution_count": 43,
   "id": "295afefb",
   "metadata": {},
   "outputs": [
    {
     "name": "stdout",
     "output_type": "stream",
     "text": [
      "['Algeria', 'Mangolia', ['New Zealand', 'Norway']]\n"
     ]
    }
   ],
   "source": [
    "del countries[-2]\n",
    "countries.insert(-1,\"Mangolia\")\n",
    "print(countries[-3:])"
   ]
  },
  {
   "cell_type": "code",
   "execution_count": 44,
   "id": "c86cc9db",
   "metadata": {},
   "outputs": [
    {
     "name": "stdout",
     "output_type": "stream",
     "text": [
      "['japan', 'Poland', 'Algeria']\n"
     ]
    }
   ],
   "source": [
    "countries[1]=\"Poland\"\n",
    "print(countries[:3])"
   ]
  },
  {
   "cell_type": "code",
   "execution_count": null,
   "id": "2258f517",
   "metadata": {},
   "outputs": [],
   "source": []
  }
 ],
 "metadata": {
  "kernelspec": {
   "display_name": "Python 3 (ipykernel)",
   "language": "python",
   "name": "python3"
  },
  "language_info": {
   "codemirror_mode": {
    "name": "ipython",
    "version": 3
   },
   "file_extension": ".py",
   "mimetype": "text/x-python",
   "name": "python",
   "nbconvert_exporter": "python",
   "pygments_lexer": "ipython3",
   "version": "3.9.13"
  }
 },
 "nbformat": 4,
 "nbformat_minor": 5
}
